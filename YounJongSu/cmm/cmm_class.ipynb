{
 "cells": [
  {
   "cell_type": "markdown",
   "metadata": {},
   "source": [
    "# Dynamic Programming for Chained Matrix Multiplication(CMM)"
   ]
  },
  {
   "cell_type": "markdown",
   "metadata": {},
   "source": [
    "## Multiplying A=pXq, B=qXr -> AB=pXr"
   ]
  },
  {
   "cell_type": "markdown",
   "metadata": {},
   "source": [
    "### Multiplying Chained Matrices (= a sequence of matirces)"
   ]
  },
  {
   "cell_type": "markdown",
   "metadata": {},
   "source": [
    "## 뭐부터 곱해야 계산량이 적을까?\n",
    "\n",
    "## Design:\n",
    " - Brute Force = O(2^n)\n",
    " - Divide and Conquer\n",
    " - Dynamic Programming"
   ]
  },
  {
   "cell_type": "markdown",
   "metadata": {},
   "source": [
    "# problem def:\n",
    "### Given a gigen ordered sequence of matrices, find an optimal order(min = # multiplications) for CMM\n",
    "1. examples(guessing)\n",
    " - start with easier subproblems(hand computation)->insights\n",
    "2. Recursive property = recurrence (math expression)\n",
    "3. save and reuse"
   ]
  },
  {
   "cell_type": "markdown",
   "metadata": {},
   "source": [
    "|A1|A2|A3|A4|A5|A6|\n",
    "|---|---|---|---|---|---|\n",
    "|5X2|2X3|3X4|4X6|6X7|7X8|\n",
    "\n",
    "- easiest prob: A1(매트리스 한개)) = 0\n",
    "- easy prob: A1*A2(매트리스 두개)) = 5X2X3\n",
    "- next: A1*A2*A3(매트리스 3개) = 5X2X3 + 5X3X4 or 2X3X4 + 5X2X4"
   ]
  },
  {
   "cell_type": "markdown",
   "metadata": {},
   "source": [
    "M|1|2|3|4|5|6\n",
    "---|---|---|---|---|---|---\n",
    "1|0|||||\n",
    "2||0||||\n",
    "3|||0|||\n",
    "4||||0|4X6X7|\n",
    "5|||||0|\n",
    "6||||||0\n"
   ]
  }
 ],
 "metadata": {
  "language_info": {
   "codemirror_mode": {
    "name": "ipython",
    "version": 3
   },
   "file_extension": ".py",
   "mimetype": "text/x-python",
   "name": "python",
   "nbconvert_exporter": "python",
   "pygments_lexer": "ipython3",
   "version": 3
  },
  "orig_nbformat": 2
 },
 "nbformat": 4,
 "nbformat_minor": 2
}